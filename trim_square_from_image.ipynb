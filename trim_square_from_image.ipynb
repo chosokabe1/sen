{
 "cells": [
  {
   "cell_type": "code",
   "execution_count": 1,
   "metadata": {},
   "outputs": [],
   "source": [
    "class Trim:\n",
    "  # クラス変数\n",
    "  # スライドが端に到達するか否かをXYそれぞれ判定する\n",
    "  x_slide_finish = 0\n",
    "  y_slide_finish = 0\n",
    "\n",
    "  def __init__(self, size, width, height):\n",
    "    self.x_start = 0\n",
    "    self.x_end = size\n",
    "    self.y_start = 0\n",
    "    self.y_end = size\n",
    "    self.size = size\n",
    "    self.x_max = width\n",
    "    self.y_max = height\n",
    "\n",
    "  def x_slide(self):\n",
    "    # x_slideがx_maxを超えるなら超えないように処理する。\n",
    "    if self.x_end + self.size > self.x_max:\n",
    "      Trim.x_slide_finish = True\n",
    "      self.x_end = self.x_max\n",
    "      self.x_start = self.x_end - self.size\n",
    "    else:  \n",
    "      self.x_start += self.size\n",
    "      self.x_end += self.size\n",
    "\n",
    "  def y_slide(self):\n",
    "    if self.y_end + self.size > self.y_max:\n",
    "      Trim.y_slide_finish = True\n",
    "      self.y_end = self.y_max\n",
    "      self.y_start = self.y_end - self.size\n",
    "    else:\n",
    "      self.y_start += self.size\n",
    "      self.y_end += self.size\n",
    "\n",
    "  # x が端に到達した後、yをスライドし、xを左に初期化する。\n",
    "  def only_x_init(self):\n",
    "    self.x_start = 0\n",
    "    self.x_end = self.size\n",
    "\n",
    "  # 現在の座標を表示する。\n",
    "  def print_trim(self):\n",
    "    print(f\"({self.x_start}:{self.x_end})({self.y_start}:{self.y_end})\")"
   ]
  },
  {
   "cell_type": "code",
   "execution_count": 2,
   "metadata": {},
   "outputs": [
    {
     "name": "stdout",
     "output_type": "stream",
     "text": [
      "x:0回目, y:0回目\n",
      "(0:400)(0:400)\n",
      "x:1回目, y:0回目\n",
      "(400:800)(0:400)\n",
      "\n",
      "x:2回目, y:0回目\n",
      "(488:888)(0:400)\n",
      "\n",
      "x:0回目, y:1回目\n",
      "(0:400)(400:800)\n",
      "x:1回目, y:1回目\n",
      "(400:800)(400:800)\n",
      "\n",
      "x:2回目, y:1回目\n",
      "(488:888)(400:800)\n",
      "\n",
      "x:0回目, y:2回目\n",
      "(0:400)(800:1200)\n",
      "x:1回目, y:2回目\n",
      "(400:800)(800:1200)\n",
      "\n",
      "x:2回目, y:2回目\n",
      "(488:888)(800:1200)\n",
      "\n",
      "x:2回目, y:3回目\n",
      "(0:400)(822:1222)\n",
      "x:1回目, y:3回目\n",
      "(400:800)(822:1222)\n",
      "\n",
      "x:2回目, y:3回目\n",
      "(488:888)(822:1222)\n",
      "\n"
     ]
    }
   ],
   "source": [
    "square_size = 400\n",
    "image_width = 888\n",
    "image_height = 1222\n",
    "\n",
    "trim = Trim(square_size, image_width, image_height)\n",
    "\n",
    "Trim.y_slide_finish = False\n",
    "y_count = 0\n",
    "while(Trim.y_slide_finish == False):\n",
    "  Trim.x_slide_finish = False\n",
    "  x_count = 0\n",
    "  print(f\"x:{x_count}回目, y:{y_count}回目\")\n",
    "  trim.print_trim()\n",
    "\n",
    "  while(Trim.x_slide_finish == False):\n",
    "    trim.x_slide()\n",
    "    x_count += 1\n",
    "    print(f\"x:{x_count}回目, y:{y_count}回目\")\n",
    "    trim.print_trim()\n",
    "    print()\n",
    "  \n",
    "  trim.only_x_init()\n",
    "  trim.y_slide()\n",
    "  y_count += 1\n",
    "\n",
    "# 上記の二重ループではyの最後の段が無視されているので以下にyの最後の段\n",
    "print(f\"x:{x_count}回目, y:{y_count}回目\")\n",
    "trim.print_trim()\n",
    "x_count = 0\n",
    "Trim.x_slide_finish = False\n",
    "while(Trim.x_slide_finish == False):\n",
    "  trim.x_slide()\n",
    "  x_count += 1\n",
    "  print(f\"x:{x_count}回目, y:{y_count}回目\")\n",
    "  trim.print_trim()\n",
    "  print()\n"
   ]
  },
  {
   "cell_type": "code",
   "execution_count": 3,
   "metadata": {},
   "outputs": [],
   "source": [
    "import cv2\n",
    "\n",
    "im = cv2.imread('003_003.jpeg')\n",
    "print(im.shape)"
   ]
  }
 ],
 "metadata": {
  "kernelspec": {
   "display_name": "Python 3.8.13 ('nyumon')",
   "language": "python",
   "name": "python3"
  },
  "language_info": {
   "codemirror_mode": {
    "name": "ipython",
    "version": 3
   },
   "file_extension": ".py",
   "mimetype": "text/x-python",
   "name": "python",
   "nbconvert_exporter": "python",
   "pygments_lexer": "ipython3",
   "version": "3.8.13"
  },
  "orig_nbformat": 4,
  "vscode": {
   "interpreter": {
    "hash": "9e967378065edafb92749124c824a796e385b024a19e245e2548aff439aecb5a"
   }
  }
 },
 "nbformat": 4,
 "nbformat_minor": 2
}
