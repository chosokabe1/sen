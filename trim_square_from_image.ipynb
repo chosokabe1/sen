{
 "cells": [
  {
   "cell_type": "code",
   "execution_count": null,
   "metadata": {},
   "outputs": [],
   "source": [
    "class Trim:\n",
    "  def __init__\n",
    "  x_start = 0\n",
    "  x_end = 0\n",
    "  y_start = 0\n",
    "  y_end = 0"
   ]
  },
  {
   "cell_type": "code",
   "execution_count": null,
   "metadata": {},
   "outputs": [],
   "source": [
    "square_size = 400"
   ]
  }
 ],
 "metadata": {
  "language_info": {
   "name": "python"
  },
  "orig_nbformat": 4
 },
 "nbformat": 4,
 "nbformat_minor": 2
}
