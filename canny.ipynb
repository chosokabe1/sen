{
 "cells": [
  {
   "cell_type": "code",
   "execution_count": 132,
   "metadata": {},
   "outputs": [],
   "source": [
    "import glob\n",
    "import os\n",
    "%matplotlib inline\n",
    "from matplotlib import pyplot as plt\n",
    "import numpy as np\n",
    "import cv2"
   ]
  },
  {
   "cell_type": "code",
   "execution_count": 133,
   "metadata": {},
   "outputs": [],
   "source": [
    "def makedir(path):\n",
    "  if not os.path.exists(path):\n",
    "    os.makedirs(path)"
   ]
  },
  {
   "cell_type": "code",
   "execution_count": 134,
   "metadata": {},
   "outputs": [],
   "source": [
    "ex_path = \"data\\egg_trim_600\\\\all\"\n",
    "out_path = \"data\\egg_trim_600\\canny\"\n",
    "morph_path = \"data\\egg_trim_600\\morph\"\n",
    "back_path = \"data\\egg_trim_600\\\\back\"\n",
    "noback_path = \"data\\egg_trim_600\\\\noback\"\n",
    "makedir(back_path)\n",
    "makedir(noback_path)\n",
    "makedir(morph_path)\n",
    "makedir(out_path)"
   ]
  },
  {
   "cell_type": "code",
   "execution_count": 135,
   "metadata": {},
   "outputs": [],
   "source": [
    "def show_imgs(lis,col,size=15,f=20):\n",
    "  row = -(-len(lis) // col)\n",
    "  fig,ax = plt.subplots(row,col,figsize = (size,size))\n",
    "  if row == 1:\n",
    "    for i, img in enumerate(lis):\n",
    "      ax[i].imshow(img)\n",
    "  else:\n",
    "    for i, img in enumerate(lis):\n",
    "      j = i//col\n",
    "      k = i%col\n",
    "      ax[j][k].imshow(img)\n",
    "  \n",
    "  plt.show()"
   ]
  },
  {
   "cell_type": "code",
   "execution_count": 136,
   "metadata": {},
   "outputs": [],
   "source": [
    "for index, img_path in enumerate(glob.glob(os.path.join(ex_path, \"*\"))):\n",
    "\n",
    "  img = cv2.imread(img_path)\n",
    "  edges = cv2.Canny(img,30,30)\n",
    "  # cv2.imwrite(os.path.join(out_path, os.path.basename(img_path)), edges)\n",
    "\n",
    "  # white_area=cv2.countNonZero(edges)\n",
    "  # white_thresh = 6000\n",
    "  # if white_area < white_thresh:\n",
    "  #   cv2.imwrite(os.path.join(back_path,os.path.basename(img_path)), img)\n",
    "  # else:\n",
    "  #   cv2.imwrite(os.path.join(noback_path,os.path.basename(img_path)), img)\n",
    "  # kernel = np.ones((5,5),np.uint8)\n",
    "  # closing = cv2.morphologyEx(edges, cv2.MORPH_CLOSE, kernel)\n",
    "  # closing_opening = cv2.morphologyEx(closing, cv2.MORPH_OPEN, kernel)\n",
    "  # cv2.imwrite(os.path.join(morph_path, os.path.basename(img_path)), closing_opening)\n"
   ]
  }
 ],
 "metadata": {
  "kernelspec": {
   "display_name": "Python 3.8.10 ('.sen': venv)",
   "language": "python",
   "name": "python3"
  },
  "language_info": {
   "codemirror_mode": {
    "name": "ipython",
    "version": 3
   },
   "file_extension": ".py",
   "mimetype": "text/x-python",
   "name": "python",
   "nbconvert_exporter": "python",
   "pygments_lexer": "ipython3",
   "version": "3.8.10"
  },
  "orig_nbformat": 4,
  "vscode": {
   "interpreter": {
    "hash": "52c25e5d2c0298585f6976033ea699090aee416a2ac953fc04a260c1a5416d53"
   }
  }
 },
 "nbformat": 4,
 "nbformat_minor": 2
}
